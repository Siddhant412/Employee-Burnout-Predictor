{
  "nbformat": 4,
  "nbformat_minor": 0,
  "metadata": {
    "kernelspec": {
      "name": "python385jvsc74a57bd043828d57560137c840e493fb6280f61252573f19e3a5057d8cd07e66be68987b",
      "display_name": "Python 3.8.5 64-bit"
    },
    "language_info": {
      "codemirror_mode": {
        "name": "ipython",
        "version": 3
      },
      "file_extension": ".py",
      "mimetype": "text/x-python",
      "name": "python",
      "nbconvert_exporter": "python",
      "pygments_lexer": "ipython3",
      "version": "3.8.5"
    },
    "papermill": {
      "duration": 889.950842,
      "end_time": "2020-12-18T14:59:46.320173",
      "environment_variables": {},
      "exception": null,
      "input_path": "__notebook__.ipynb",
      "output_path": "__notebook__.ipynb",
      "parameters": {},
      "start_time": "2020-12-18T14:44:56.369331",
      "version": "2.1.0"
    },
    "colab": {
      "name": "SAP-code-Employee-Burnout.ipynb",
      "provenance": [],
      "collapsed_sections": [],
      "toc_visible": true
    },
    "metadata": {
      "interpreter": {
        "hash": "43828d57560137c840e493fb6280f61252573f19e3a5057d8cd07e66be68987b"
      }
    }
  },
  "cells": [
    {
      "cell_type": "code",
      "metadata": {
        "_cell_guid": "b1076dfc-b9ad-4769-8c92-a6c4dae69d19",
        "_uuid": "8f2839f25d086af736a60e9eeb907d3b93b6e0e5",
        "execution": {
          "iopub.execute_input": "2020-12-18T14:45:02.073539Z",
          "iopub.status.busy": "2020-12-18T14:45:02.072771Z",
          "iopub.status.idle": "2020-12-18T14:45:02.086146Z",
          "shell.execute_reply": "2020-12-18T14:45:02.085563Z"
        },
        "papermill": {
          "duration": 0.055789,
          "end_time": "2020-12-18T14:45:02.086458",
          "exception": false,
          "start_time": "2020-12-18T14:45:02.030669",
          "status": "completed"
        },
        "tags": [],
        "id": "d9tc1rL29s0l"
      },
      "source": [
        "import numpy as np \n",
        "import pandas as pd\n",
        "import matplotlib.pyplot as plt \n",
        "from sklearn.preprocessing import PolynomialFeatures\n",
        "from sklearn import linear_model\n",
        "from sklearn.model_selection import train_test_split"
      ],
      "execution_count": null,
      "outputs": []
    },
    {
      "cell_type": "markdown",
      "metadata": {
        "papermill": {
          "duration": 0.036624,
          "end_time": "2020-12-18T14:45:02.242710",
          "exception": false,
          "start_time": "2020-12-18T14:45:02.206086",
          "status": "completed"
        },
        "tags": [],
        "id": "LwOezEHU9s0v"
      },
      "source": [
        "## Loading the data"
      ]
    },
    {
      "cell_type": "code",
      "metadata": {
        "id": "qk6eKSJWGSyT"
      },
      "source": [
        "train_input_path = 'data/test.csv'\n",
        "test_input_path = 'data/train.csv'"
      ],
      "execution_count": null,
      "outputs": []
    },
    {
      "cell_type": "code",
      "metadata": {
        "execution": {
          "iopub.execute_input": "2020-12-18T14:45:02.322816Z",
          "iopub.status.busy": "2020-12-18T14:45:02.322091Z",
          "iopub.status.idle": "2020-12-18T14:45:02.458159Z",
          "shell.execute_reply": "2020-12-18T14:45:02.458630Z"
        },
        "papermill": {
          "duration": 0.177524,
          "end_time": "2020-12-18T14:45:02.458814",
          "exception": false,
          "start_time": "2020-12-18T14:45:02.281290",
          "status": "completed"
        },
        "tags": [],
        "id": "RaE-nrM99s0w"
      },
      "source": [
        "train = pd.read_csv(train_input_path, index_col = 'Employee ID')\n",
        "final_test = pd.read_csv(test_input_path, index_col = 'Employee ID')"
      ],
      "execution_count": null,
      "outputs": []
    },
    {
      "cell_type": "markdown",
      "metadata": {
        "id": "moRsU0hGMrmT"
      },
      "source": [
        "## Data Analysis"
      ]
    },
    {
      "cell_type": "code",
      "metadata": {
        "execution": {
          "iopub.execute_input": "2020-12-18T14:45:02.556520Z",
          "iopub.status.busy": "2020-12-18T14:45:02.555810Z",
          "iopub.status.idle": "2020-12-18T14:45:02.570894Z",
          "shell.execute_reply": "2020-12-18T14:45:02.569542Z"
        },
        "papermill": {
          "duration": 0.072192,
          "end_time": "2020-12-18T14:45:02.571094",
          "exception": false,
          "start_time": "2020-12-18T14:45:02.498902",
          "status": "completed"
        },
        "tags": [],
        "colab": {
          "base_uri": "https://localhost:8080/",
          "height": 247
        },
        "id": "ta8o-5oy9s0w",
        "outputId": "5a343f75-41d1-4007-ce76-7bfb088b3b6a"
      },
      "source": [
        "train.head()"
      ],
      "execution_count": null,
      "outputs": [
        {
          "output_type": "execute_result",
          "data": {
            "text/html": [
              "<div>\n",
              "<style scoped>\n",
              "    .dataframe tbody tr th:only-of-type {\n",
              "        vertical-align: middle;\n",
              "    }\n",
              "\n",
              "    .dataframe tbody tr th {\n",
              "        vertical-align: top;\n",
              "    }\n",
              "\n",
              "    .dataframe thead th {\n",
              "        text-align: right;\n",
              "    }\n",
              "</style>\n",
              "<table border=\"1\" class=\"dataframe\">\n",
              "  <thead>\n",
              "    <tr style=\"text-align: right;\">\n",
              "      <th></th>\n",
              "      <th>Date of Joining</th>\n",
              "      <th>Gender</th>\n",
              "      <th>Company Type</th>\n",
              "      <th>WFH Setup Available</th>\n",
              "      <th>Designation</th>\n",
              "      <th>Resource Allocation</th>\n",
              "      <th>Mental Fatigue Score</th>\n",
              "      <th>Burn Rate</th>\n",
              "    </tr>\n",
              "    <tr>\n",
              "      <th>Employee ID</th>\n",
              "      <th></th>\n",
              "      <th></th>\n",
              "      <th></th>\n",
              "      <th></th>\n",
              "      <th></th>\n",
              "      <th></th>\n",
              "      <th></th>\n",
              "      <th></th>\n",
              "    </tr>\n",
              "  </thead>\n",
              "  <tbody>\n",
              "    <tr>\n",
              "      <th>fffe32003000360033003200</th>\n",
              "      <td>2008-09-30</td>\n",
              "      <td>Female</td>\n",
              "      <td>Service</td>\n",
              "      <td>No</td>\n",
              "      <td>2.0</td>\n",
              "      <td>3.0</td>\n",
              "      <td>3.8</td>\n",
              "      <td>0.16</td>\n",
              "    </tr>\n",
              "    <tr>\n",
              "      <th>fffe3700360033003500</th>\n",
              "      <td>2008-11-30</td>\n",
              "      <td>Male</td>\n",
              "      <td>Service</td>\n",
              "      <td>Yes</td>\n",
              "      <td>1.0</td>\n",
              "      <td>2.0</td>\n",
              "      <td>5.0</td>\n",
              "      <td>0.36</td>\n",
              "    </tr>\n",
              "    <tr>\n",
              "      <th>fffe31003300320037003900</th>\n",
              "      <td>2008-03-10</td>\n",
              "      <td>Female</td>\n",
              "      <td>Product</td>\n",
              "      <td>Yes</td>\n",
              "      <td>2.0</td>\n",
              "      <td>NaN</td>\n",
              "      <td>5.8</td>\n",
              "      <td>0.49</td>\n",
              "    </tr>\n",
              "    <tr>\n",
              "      <th>fffe32003400380032003900</th>\n",
              "      <td>2008-11-03</td>\n",
              "      <td>Male</td>\n",
              "      <td>Service</td>\n",
              "      <td>Yes</td>\n",
              "      <td>1.0</td>\n",
              "      <td>1.0</td>\n",
              "      <td>2.6</td>\n",
              "      <td>0.20</td>\n",
              "    </tr>\n",
              "    <tr>\n",
              "      <th>fffe31003900340031003600</th>\n",
              "      <td>2008-07-24</td>\n",
              "      <td>Female</td>\n",
              "      <td>Service</td>\n",
              "      <td>No</td>\n",
              "      <td>3.0</td>\n",
              "      <td>7.0</td>\n",
              "      <td>6.9</td>\n",
              "      <td>0.52</td>\n",
              "    </tr>\n",
              "  </tbody>\n",
              "</table>\n",
              "</div>"
            ],
            "text/plain": [
              "                         Date of Joining  ... Burn Rate\n",
              "Employee ID                               ...          \n",
              "fffe32003000360033003200      2008-09-30  ...      0.16\n",
              "fffe3700360033003500          2008-11-30  ...      0.36\n",
              "fffe31003300320037003900      2008-03-10  ...      0.49\n",
              "fffe32003400380032003900      2008-11-03  ...      0.20\n",
              "fffe31003900340031003600      2008-07-24  ...      0.52\n",
              "\n",
              "[5 rows x 8 columns]"
            ]
          },
          "metadata": {
            "tags": []
          },
          "execution_count": 28
        }
      ]
    },
    {
      "cell_type": "code",
      "metadata": {
        "colab": {
          "base_uri": "https://localhost:8080/"
        },
        "id": "oWWXzL8pN92C",
        "outputId": "6b244a77-dd92-4a72-963f-92299e539876"
      },
      "source": [
        "print(\"\\n\",train['Gender'].value_counts())\n",
        "\n",
        "print(\"\\n\",train['Company Type'].value_counts())\n",
        "\n",
        "print(\"\\n\",train['WFH Setup Available'].value_counts())\n",
        "\n",
        "print(\"\\n\",train['Designation'].value_counts().sort_index())\n",
        "\n",
        "print(\"\\n\",train['Resource Allocation'].value_counts().sort_index())\n"
      ],
      "execution_count": null,
      "outputs": [
        {
          "output_type": "stream",
          "text": [
            "\n",
            " Female    11908\n",
            "Male      10842\n",
            "Name: Gender, dtype: int64\n",
            "\n",
            " Service    14833\n",
            "Product     7917\n",
            "Name: Company Type, dtype: int64\n",
            "\n",
            " Yes    12290\n",
            "No     10460\n",
            "Name: WFH Setup Available, dtype: int64\n",
            "\n",
            " 0.0    1507\n",
            "1.0    4881\n",
            "2.0    7588\n",
            "3.0    5985\n",
            "4.0    2391\n",
            "5.0     398\n",
            "Name: Designation, dtype: int64\n",
            "\n",
            " 1.0     1791\n",
            "2.0     2075\n",
            "3.0     3192\n",
            "4.0     3893\n",
            "5.0     3861\n",
            "6.0     2943\n",
            "7.0     1965\n",
            "8.0     1044\n",
            "9.0      446\n",
            "10.0     159\n",
            "Name: Resource Allocation, dtype: int64\n"
          ],
          "name": "stdout"
        }
      ]
    },
    {
      "cell_type": "code",
      "metadata": {
        "execution": {
          "iopub.execute_input": "2020-12-18T14:45:02.853708Z",
          "iopub.status.busy": "2020-12-18T14:45:02.853017Z",
          "iopub.status.idle": "2020-12-18T14:45:02.856999Z",
          "shell.execute_reply": "2020-12-18T14:45:02.857447Z"
        },
        "papermill": {
          "duration": 0.048974,
          "end_time": "2020-12-18T14:45:02.857608",
          "exception": false,
          "start_time": "2020-12-18T14:45:02.808634",
          "status": "completed"
        },
        "tags": [],
        "colab": {
          "base_uri": "https://localhost:8080/"
        },
        "id": "h4Znhbm99s0x",
        "outputId": "2fcc2d94-092f-433d-f646-d8e38f5c2a24"
      },
      "source": [
        "train.dtypes"
      ],
      "execution_count": null,
      "outputs": [
        {
          "output_type": "execute_result",
          "data": {
            "text/plain": [
              "Date of Joining          object\n",
              "Gender                   object\n",
              "Company Type             object\n",
              "WFH Setup Available      object\n",
              "Designation             float64\n",
              "Resource Allocation     float64\n",
              "Mental Fatigue Score    float64\n",
              "Burn Rate               float64\n",
              "dtype: object"
            ]
          },
          "metadata": {
            "tags": []
          },
          "execution_count": 30
        }
      ]
    },
    {
      "cell_type": "markdown",
      "metadata": {
        "papermill": {
          "duration": 0.040798,
          "end_time": "2020-12-18T14:45:02.941612",
          "exception": false,
          "start_time": "2020-12-18T14:45:02.900814",
          "status": "completed"
        },
        "tags": [],
        "id": "e419TNdd9s0x"
      },
      "source": [
        "## Converting the datatypes of columns to a suitable type"
      ]
    },
    {
      "cell_type": "code",
      "metadata": {
        "execution": {
          "iopub.execute_input": "2020-12-18T14:45:03.043386Z",
          "iopub.status.busy": "2020-12-18T14:45:03.042695Z",
          "iopub.status.idle": "2020-12-18T14:45:03.120518Z",
          "shell.execute_reply": "2020-12-18T14:45:03.120997Z"
        },
        "papermill": {
          "duration": 0.135408,
          "end_time": "2020-12-18T14:45:03.121177",
          "exception": false,
          "start_time": "2020-12-18T14:45:02.985769",
          "status": "completed"
        },
        "tags": [],
        "colab": {
          "base_uri": "https://localhost:8080/"
        },
        "id": "ad_dv_uw9s0x",
        "outputId": "3a6d2fa6-35f6-48b8-d401-3b239ee0b34d"
      },
      "source": [
        "# date of joining -> datetype\n",
        "train['Date of Joining'] = pd.to_datetime(train['Date of Joining'])\n",
        "final_test['Date of Joining'] = pd.to_datetime(final_test['Date of Joining'])\n",
        "\n",
        "# gender -> binary\n",
        "gender = {'Female': 1,'Male': 0}\n",
        "train['Gender'] = [gender[i] for i in train['Gender']]\n",
        "final_test['Gender'] = [gender[i] for i in final_test['Gender']]\n",
        "\n",
        "# company type -> binary\n",
        "company_type = {'Service': 1,'Product': 0}\n",
        "train['Company Type'] = [company_type[i] for i in train['Company Type']]\n",
        "final_test['Company Type'] = [company_type[i] for i in final_test['Company Type']]\n",
        "\n",
        "# WFH Setup Available -> binary \n",
        "wfh_setup_avail = {'No': 0,'Yes': 1}\n",
        "train['WFH Setup Available'] = [wfh_setup_avail[i] for i in train['WFH Setup Available']]\n",
        "final_test['WFH Setup Available'] = [wfh_setup_avail[i] for i in final_test['WFH Setup Available']]\n",
        "\n",
        "# Designation -> int\n",
        "train['Designation'] = train['Designation'].astype('Int64')\n",
        "final_test['Designation'] = final_test['Designation'].astype('Int64')\n",
        "\n",
        "# Resource Allocation -> int\n",
        "train['Resource Allocation'] = train['Resource Allocation'].astype('Int64')\n",
        "final_test['Resource Allocation'] = final_test['Resource Allocation'].astype('Int64')\n",
        "\n",
        "train.dtypes"
      ],
      "execution_count": null,
      "outputs": [
        {
          "output_type": "execute_result",
          "data": {
            "text/plain": [
              "Date of Joining         datetime64[ns]\n",
              "Gender                           int64\n",
              "Company Type                     int64\n",
              "WFH Setup Available              int64\n",
              "Designation                      Int64\n",
              "Resource Allocation              Int64\n",
              "Mental Fatigue Score           float64\n",
              "Burn Rate                      float64\n",
              "dtype: object"
            ]
          },
          "metadata": {
            "tags": []
          },
          "execution_count": 31
        }
      ]
    },
    {
      "cell_type": "code",
      "metadata": {
        "execution": {
          "iopub.execute_input": "2020-12-18T14:45:03.291745Z",
          "iopub.status.busy": "2020-12-18T14:45:03.290756Z",
          "iopub.status.idle": "2020-12-18T14:45:03.326478Z",
          "shell.execute_reply": "2020-12-18T14:45:03.325813Z"
        },
        "papermill": {
          "duration": 0.081858,
          "end_time": "2020-12-18T14:45:03.326636",
          "exception": false,
          "start_time": "2020-12-18T14:45:03.244778",
          "status": "completed"
        },
        "tags": [],
        "colab": {
          "base_uri": "https://localhost:8080/"
        },
        "id": "ZxptCA0A9s0y",
        "outputId": "d5e6d787-a83b-4c6f-8009-9b687d31c033"
      },
      "source": [
        "train.isnull().sum() "
      ],
      "execution_count": null,
      "outputs": [
        {
          "output_type": "execute_result",
          "data": {
            "text/plain": [
              "Date of Joining            0\n",
              "Gender                     0\n",
              "Company Type               0\n",
              "WFH Setup Available        0\n",
              "Designation                0\n",
              "Resource Allocation     1381\n",
              "Mental Fatigue Score    2117\n",
              "Burn Rate               1124\n",
              "dtype: int64"
            ]
          },
          "metadata": {
            "tags": []
          },
          "execution_count": 32
        }
      ]
    },
    {
      "cell_type": "code",
      "metadata": {
        "execution": {
          "iopub.execute_input": "2020-12-18T14:45:03.763700Z",
          "iopub.status.busy": "2020-12-18T14:45:03.762837Z",
          "iopub.status.idle": "2020-12-18T14:45:03.771223Z",
          "shell.execute_reply": "2020-12-18T14:45:03.771777Z"
        },
        "papermill": {
          "duration": 0.053493,
          "end_time": "2020-12-18T14:45:03.771945",
          "exception": false,
          "start_time": "2020-12-18T14:45:03.718452",
          "status": "completed"
        },
        "tags": [],
        "id": "XVNUqSw89s0z"
      },
      "source": [
        "train = train.dropna()"
      ],
      "execution_count": null,
      "outputs": []
    },
    {
      "cell_type": "code",
      "metadata": {
        "colab": {
          "base_uri": "https://localhost:8080/"
        },
        "id": "0HTIcU93TaaU",
        "outputId": "0a6bd1cc-57d6-4c1a-a845-3bad70bb8f40"
      },
      "source": [
        "train.isnull().sum() "
      ],
      "execution_count": null,
      "outputs": [
        {
          "output_type": "execute_result",
          "data": {
            "text/plain": [
              "Date of Joining         0\n",
              "Gender                  0\n",
              "Company Type            0\n",
              "WFH Setup Available     0\n",
              "Designation             0\n",
              "Resource Allocation     0\n",
              "Mental Fatigue Score    0\n",
              "Burn Rate               0\n",
              "dtype: int64"
            ]
          },
          "metadata": {
            "tags": []
          },
          "execution_count": 34
        }
      ]
    },
    {
      "cell_type": "code",
      "metadata": {
        "execution": {
          "iopub.execute_input": "2020-12-18T14:45:03.958247Z",
          "iopub.status.busy": "2020-12-18T14:45:03.957415Z",
          "iopub.status.idle": "2020-12-18T14:45:03.978584Z",
          "shell.execute_reply": "2020-12-18T14:45:03.977859Z"
        },
        "papermill": {
          "duration": 0.069146,
          "end_time": "2020-12-18T14:45:03.978718",
          "exception": false,
          "start_time": "2020-12-18T14:45:03.909572",
          "status": "completed"
        },
        "tags": [],
        "colab": {
          "base_uri": "https://localhost:8080/",
          "height": 170
        },
        "id": "s21NJFx-9s0z",
        "outputId": "5ca1aee5-14b0-4d0d-b09e-efec0127236c"
      },
      "source": [
        "train[['Designation', 'Resource Allocation', 'Mental Fatigue Score', 'Burn Rate']].corr()"
      ],
      "execution_count": null,
      "outputs": [
        {
          "output_type": "execute_result",
          "data": {
            "text/html": [
              "<div>\n",
              "<style scoped>\n",
              "    .dataframe tbody tr th:only-of-type {\n",
              "        vertical-align: middle;\n",
              "    }\n",
              "\n",
              "    .dataframe tbody tr th {\n",
              "        vertical-align: top;\n",
              "    }\n",
              "\n",
              "    .dataframe thead th {\n",
              "        text-align: right;\n",
              "    }\n",
              "</style>\n",
              "<table border=\"1\" class=\"dataframe\">\n",
              "  <thead>\n",
              "    <tr style=\"text-align: right;\">\n",
              "      <th></th>\n",
              "      <th>Designation</th>\n",
              "      <th>Resource Allocation</th>\n",
              "      <th>Mental Fatigue Score</th>\n",
              "      <th>Burn Rate</th>\n",
              "    </tr>\n",
              "  </thead>\n",
              "  <tbody>\n",
              "    <tr>\n",
              "      <th>Designation</th>\n",
              "      <td>1.000000</td>\n",
              "      <td>0.877893</td>\n",
              "      <td>0.691823</td>\n",
              "      <td>0.736412</td>\n",
              "    </tr>\n",
              "    <tr>\n",
              "      <th>Resource Allocation</th>\n",
              "      <td>0.877893</td>\n",
              "      <td>1.000000</td>\n",
              "      <td>0.799563</td>\n",
              "      <td>0.855005</td>\n",
              "    </tr>\n",
              "    <tr>\n",
              "      <th>Mental Fatigue Score</th>\n",
              "      <td>0.691823</td>\n",
              "      <td>0.799563</td>\n",
              "      <td>1.000000</td>\n",
              "      <td>0.944389</td>\n",
              "    </tr>\n",
              "    <tr>\n",
              "      <th>Burn Rate</th>\n",
              "      <td>0.736412</td>\n",
              "      <td>0.855005</td>\n",
              "      <td>0.944389</td>\n",
              "      <td>1.000000</td>\n",
              "    </tr>\n",
              "  </tbody>\n",
              "</table>\n",
              "</div>"
            ],
            "text/plain": [
              "                      Designation  ...  Burn Rate\n",
              "Designation              1.000000  ...   0.736412\n",
              "Resource Allocation      0.877893  ...   0.855005\n",
              "Mental Fatigue Score     0.691823  ...   0.944389\n",
              "Burn Rate                0.736412  ...   1.000000\n",
              "\n",
              "[4 rows x 4 columns]"
            ]
          },
          "metadata": {
            "tags": []
          },
          "execution_count": 35
        }
      ]
    },
    {
      "cell_type": "code",
      "metadata": {
        "execution": {
          "iopub.execute_input": "2020-12-18T14:45:04.067189Z",
          "iopub.status.busy": "2020-12-18T14:45:04.066350Z",
          "iopub.status.idle": "2020-12-18T14:45:04.821032Z",
          "shell.execute_reply": "2020-12-18T14:45:04.821536Z"
        },
        "papermill": {
          "duration": 0.799646,
          "end_time": "2020-12-18T14:45:04.821694",
          "exception": false,
          "start_time": "2020-12-18T14:45:04.022048",
          "status": "completed"
        },
        "tags": [],
        "colab": {
          "base_uri": "https://localhost:8080/",
          "height": 336
        },
        "id": "w3QqoS1p9s0z",
        "outputId": "8b71c3bf-d6db-4276-99ff-3448fd0698d1"
      },
      "source": [
        "fig, axs = plt.subplots(1, 3, figsize=(15, 5))\n",
        "axs[0].scatter(train['Designation'],train['Burn Rate'])\n",
        "axs[0].set_title('Designation')\n",
        "axs[0].set(ylabel='Burn Rate')\n",
        "axs[1].scatter(train['Resource Allocation'],train['Burn Rate'])\n",
        "axs[1].set_title('Resource Allocation')\n",
        "axs[2].scatter(train['Mental Fatigue Score'],train['Burn Rate'])\n",
        "axs[2].set_title('Mental Fatigue Score')\n",
        "plt.show()"
      ],
      "execution_count": null,
      "outputs": [
        {
          "output_type": "display_data",
          "data": {
            "image/png": "[encoded data removed]",
            "text/plain": [
              "<Figure size 1080x360 with 3 Axes>"
            ]
          },
          "metadata": {
            "tags": [],
            "needs_background": "light"
          }
        }
      ]
    },
    {
      "cell_type": "code",
      "metadata": {
        "execution": {
          "iopub.execute_input": "2020-12-18T14:45:06.829838Z",
          "iopub.status.busy": "2020-12-18T14:45:06.826344Z",
          "iopub.status.idle": "2020-12-18T14:45:07.405507Z",
          "shell.execute_reply": "2020-12-18T14:45:07.404949Z"
        },
        "papermill": {
          "duration": 0.636866,
          "end_time": "2020-12-18T14:45:07.405646",
          "exception": false,
          "start_time": "2020-12-18T14:45:06.768780",
          "status": "completed"
        },
        "tags": [],
        "id": "8AIj70Bw9s02"
      },
      "source": [
        "train['Month of Joining'] = train['Date of Joining'].dt.month\n",
        "final_test['Month of Joining'] = final_test['Date of Joining'].dt.month\n",
        "\n",
        "train['Quarter of Joining'] = train['Date of Joining'].dt.quarter\n",
        "final_test['Quarter of Joining'] = final_test['Date of Joining'].dt.quarter\n",
        "\n",
        "from datetime import date, datetime\n",
        "\n",
        "seasons = {'Summer':(datetime(2008,6,21), datetime(2008,9,22)),\n",
        "           'Autumn':(datetime(2008,9,23), datetime(2008,12,20)),\n",
        "           'Spring':(datetime(2008,3,21), datetime(2008,6,20))}\n",
        "\n",
        "def get_season(row):\n",
        "    date = row['Date of Joining']\n",
        "    for season,(season_start, season_end) in seasons.items():\n",
        "        if date>=season_start and date<= season_end:\n",
        "            return season\n",
        "    else:\n",
        "        return 'Winter'\n",
        "    \n",
        "train['Season of Joining'] = train.apply(lambda row: get_season(row), axis=1)\n",
        "final_test['Season of Joining'] = final_test.apply(lambda row: get_season(row), axis=1)"
      ],
      "execution_count": null,
      "outputs": []
    },
    {
      "cell_type": "code",
      "metadata": {
        "execution": {
          "iopub.execute_input": "2020-12-18T14:45:07.609167Z",
          "iopub.status.busy": "2020-12-18T14:45:07.607469Z",
          "iopub.status.idle": "2020-12-18T14:45:07.637225Z",
          "shell.execute_reply": "2020-12-18T14:45:07.637937Z"
        },
        "papermill": {
          "duration": 0.091834,
          "end_time": "2020-12-18T14:45:07.638138",
          "exception": false,
          "start_time": "2020-12-18T14:45:07.546304",
          "status": "completed"
        },
        "tags": [],
        "id": "nKGnTxtI9s02"
      },
      "source": [
        "# forming dummies\n",
        "\n",
        "quater_dummies_train = pd.get_dummies(train['Quarter of Joining'], prefix='Quarter', drop_first=False)\n",
        "season_dummies_train = pd.get_dummies(train['Season of Joining'], prefix='Season', drop_first=False)\n",
        "designation_dummies_train = pd.get_dummies(train['Designation'], prefix='Designation', drop_first=False)\n",
        "\n",
        "train = pd.concat([train, designation_dummies_train, quater_dummies_train, season_dummies_train], axis=1)\n",
        "\n",
        "\n",
        "quater_dummies_final_test = pd.get_dummies(final_test['Quarter of Joining'], prefix='Quarter', drop_first=False)\n",
        "season_dummies_final_test = pd.get_dummies(final_test['Season of Joining'], prefix='Season', drop_first=False)\n",
        "designation_dummies_final_test = pd.get_dummies(final_test['Designation'], prefix='Designation', drop_first=False)\n",
        "\n",
        "final_test = pd.concat([final_test, designation_dummies_final_test, quater_dummies_final_test, season_dummies_final_test], axis=1)"
      ],
      "execution_count": null,
      "outputs": []
    },
    {
      "cell_type": "code",
      "metadata": {
        "colab": {
          "base_uri": "https://localhost:8080/"
        },
        "id": "GqxGw1odTolp",
        "outputId": "f666d548-ea25-4d2c-d51e-ab060ccf6842"
      },
      "source": [
        "train.dtypes"
      ],
      "execution_count": null,
      "outputs": [
        {
          "output_type": "execute_result",
          "data": {
            "text/plain": [
              "Date of Joining         datetime64[ns]\n",
              "Gender                           int64\n",
              "Company Type                     int64\n",
              "WFH Setup Available              int64\n",
              "Designation                      Int64\n",
              "Resource Allocation              Int64\n",
              "Mental Fatigue Score           float64\n",
              "Burn Rate                      float64\n",
              "Month of Joining                 int64\n",
              "Quarter of Joining               int64\n",
              "Season of Joining               object\n",
              "Designation_0                    uint8\n",
              "Designation_1                    uint8\n",
              "Designation_2                    uint8\n",
              "Designation_3                    uint8\n",
              "Designation_4                    uint8\n",
              "Designation_5                    uint8\n",
              "Quarter_1                        uint8\n",
              "Quarter_2                        uint8\n",
              "Quarter_3                        uint8\n",
              "Quarter_4                        uint8\n",
              "Season_Autumn                    uint8\n",
              "Season_Spring                    uint8\n",
              "Season_Summer                    uint8\n",
              "Season_Winter                    uint8\n",
              "dtype: object"
            ]
          },
          "metadata": {
            "tags": []
          },
          "execution_count": 39
        }
      ]
    },
    {
      "cell_type": "code",
      "metadata": {
        "execution": {
          "iopub.execute_input": "2020-12-18T14:45:10.033657Z",
          "iopub.status.busy": "2020-12-18T14:45:10.032758Z",
          "iopub.status.idle": "2020-12-18T14:45:10.045029Z",
          "shell.execute_reply": "2020-12-18T14:45:10.044260Z"
        },
        "papermill": {
          "duration": 0.087557,
          "end_time": "2020-12-18T14:45:10.045162",
          "exception": false,
          "start_time": "2020-12-18T14:45:09.957605",
          "status": "completed"
        },
        "tags": [],
        "id": "-PBH0jFB9s04"
      },
      "source": [
        "X = train.drop(['Burn Rate','Date of Joining','Quarter of Joining','Season of Joining'], axis=1)\n",
        "y = train['Burn Rate']"
      ],
      "execution_count": null,
      "outputs": []
    },
    {
      "cell_type": "code",
      "metadata": {
        "execution": {
          "iopub.execute_input": "2020-12-18T14:45:10.158843Z",
          "iopub.status.busy": "2020-12-18T14:45:10.157993Z",
          "iopub.status.idle": "2020-12-18T14:45:10.167303Z",
          "shell.execute_reply": "2020-12-18T14:45:10.168288Z"
        },
        "papermill": {
          "duration": 0.066375,
          "end_time": "2020-12-18T14:45:10.168496",
          "exception": false,
          "start_time": "2020-12-18T14:45:10.102121",
          "status": "completed"
        },
        "tags": [],
        "colab": {
          "base_uri": "https://localhost:8080/"
        },
        "id": "sXI5Yo5t9s04",
        "outputId": "c96a12fc-2388-44b8-cd62-9755912897c6"
      },
      "source": [
        "X.columns"
      ],
      "execution_count": null,
      "outputs": [
        {
          "output_type": "execute_result",
          "data": {
            "text/plain": [
              "Index(['Gender', 'Company Type', 'WFH Setup Available', 'Designation',\n",
              "       'Resource Allocation', 'Mental Fatigue Score', 'Month of Joining',\n",
              "       'Designation_0', 'Designation_1', 'Designation_2', 'Designation_3',\n",
              "       'Designation_4', 'Designation_5', 'Quarter_1', 'Quarter_2', 'Quarter_3',\n",
              "       'Quarter_4', 'Season_Autumn', 'Season_Spring', 'Season_Summer',\n",
              "       'Season_Winter'],\n",
              "      dtype='object')"
            ]
          },
          "metadata": {
            "tags": []
          },
          "execution_count": 41
        }
      ]
    },
    {
      "cell_type": "markdown",
      "metadata": {
        "id": "PiSHoiAHUUWB"
      },
      "source": [
        "## Preprocessing"
      ]
    },
    {
      "cell_type": "code",
      "metadata": {
        "execution": {
          "iopub.execute_input": "2020-12-18T14:45:10.281123Z",
          "iopub.status.busy": "2020-12-18T14:45:10.280368Z",
          "iopub.status.idle": "2020-12-18T14:45:11.571912Z",
          "shell.execute_reply": "2020-12-18T14:45:11.570997Z"
        },
        "papermill": {
          "duration": 1.347288,
          "end_time": "2020-12-18T14:45:11.572049",
          "exception": false,
          "start_time": "2020-12-18T14:45:10.224761",
          "status": "completed"
        },
        "tags": [],
        "colab": {
          "base_uri": "https://localhost:8080/",
          "height": 305
        },
        "id": "JgPW8bUv9s04",
        "outputId": "179d752d-d3b6-40eb-c2f4-b269dc2da9d5"
      },
      "source": [
        "poly = PolynomialFeatures(interaction_only=True)\n",
        "\n",
        "X_t = pd.DataFrame(poly.fit_transform(X[['Gender', 'Company Type', 'WFH Setup Available', 'Designation',\n",
        "       'Resource Allocation', 'Mental Fatigue Score', 'Month of Joining']]))\n",
        "\n",
        "f_list = poly.get_feature_names(['Gender', 'Company Type', 'WFH Setup Available', 'Designation',\n",
        "       'Resource Allocation', 'Mental Fatigue Score', 'Month of Joining'])\n",
        "\n",
        "X_t.columns = f_list\n",
        "\n",
        "X_t.head()"
      ],
      "execution_count": null,
      "outputs": [
        {
          "output_type": "execute_result",
          "data": {
            "text/html": [
              "<div>\n",
              "<style scoped>\n",
              "    .dataframe tbody tr th:only-of-type {\n",
              "        vertical-align: middle;\n",
              "    }\n",
              "\n",
              "    .dataframe tbody tr th {\n",
              "        vertical-align: top;\n",
              "    }\n",
              "\n",
              "    .dataframe thead th {\n",
              "        text-align: right;\n",
              "    }\n",
              "</style>\n",
              "<table border=\"1\" class=\"dataframe\">\n",
              "  <thead>\n",
              "    <tr style=\"text-align: right;\">\n",
              "      <th></th>\n",
              "      <th>1</th>\n",
              "      <th>Gender</th>\n",
              "      <th>Company Type</th>\n",
              "      <th>WFH Setup Available</th>\n",
              "      <th>Designation</th>\n",
              "      <th>Resource Allocation</th>\n",
              "      <th>Mental Fatigue Score</th>\n",
              "      <th>Month of Joining</th>\n",
              "      <th>Gender Company Type</th>\n",
              "      <th>Gender WFH Setup Available</th>\n",
              "      <th>Gender Designation</th>\n",
              "      <th>Gender Resource Allocation</th>\n",
              "      <th>Gender Mental Fatigue Score</th>\n",
              "      <th>Gender Month of Joining</th>\n",
              "      <th>Company Type WFH Setup Available</th>\n",
              "      <th>Company Type Designation</th>\n",
              "      <th>Company Type Resource Allocation</th>\n",
              "      <th>Company Type Mental Fatigue Score</th>\n",
              "      <th>Company Type Month of Joining</th>\n",
              "      <th>WFH Setup Available Designation</th>\n",
              "      <th>WFH Setup Available Resource Allocation</th>\n",
              "      <th>WFH Setup Available Mental Fatigue Score</th>\n",
              "      <th>WFH Setup Available Month of Joining</th>\n",
              "      <th>Designation Resource Allocation</th>\n",
              "      <th>Designation Mental Fatigue Score</th>\n",
              "      <th>Designation Month of Joining</th>\n",
              "      <th>Resource Allocation Mental Fatigue Score</th>\n",
              "      <th>Resource Allocation Month of Joining</th>\n",
              "      <th>Mental Fatigue Score Month of Joining</th>\n",
              "    </tr>\n",
              "  </thead>\n",
              "  <tbody>\n",
              "    <tr>\n",
              "      <th>0</th>\n",
              "      <td>1.0</td>\n",
              "      <td>1.0</td>\n",
              "      <td>1.0</td>\n",
              "      <td>0.0</td>\n",
              "      <td>2.0</td>\n",
              "      <td>3.0</td>\n",
              "      <td>3.8</td>\n",
              "      <td>9.0</td>\n",
              "      <td>1.0</td>\n",
              "      <td>0.0</td>\n",
              "      <td>2.0</td>\n",
              "      <td>3.0</td>\n",
              "      <td>3.8</td>\n",
              "      <td>9.0</td>\n",
              "      <td>0.0</td>\n",
              "      <td>2.0</td>\n",
              "      <td>3.0</td>\n",
              "      <td>3.8</td>\n",
              "      <td>9.0</td>\n",
              "      <td>0.0</td>\n",
              "      <td>0.0</td>\n",
              "      <td>0.0</td>\n",
              "      <td>0.0</td>\n",
              "      <td>6.0</td>\n",
              "      <td>7.6</td>\n",
              "      <td>18.0</td>\n",
              "      <td>11.4</td>\n",
              "      <td>27.0</td>\n",
              "      <td>34.2</td>\n",
              "    </tr>\n",
              "    <tr>\n",
              "      <th>1</th>\n",
              "      <td>1.0</td>\n",
              "      <td>0.0</td>\n",
              "      <td>1.0</td>\n",
              "      <td>1.0</td>\n",
              "      <td>1.0</td>\n",
              "      <td>2.0</td>\n",
              "      <td>5.0</td>\n",
              "      <td>11.0</td>\n",
              "      <td>0.0</td>\n",
              "      <td>0.0</td>\n",
              "      <td>0.0</td>\n",
              "      <td>0.0</td>\n",
              "      <td>0.0</td>\n",
              "      <td>0.0</td>\n",
              "      <td>1.0</td>\n",
              "      <td>1.0</td>\n",
              "      <td>2.0</td>\n",
              "      <td>5.0</td>\n",
              "      <td>11.0</td>\n",
              "      <td>1.0</td>\n",
              "      <td>2.0</td>\n",
              "      <td>5.0</td>\n",
              "      <td>11.0</td>\n",
              "      <td>2.0</td>\n",
              "      <td>5.0</td>\n",
              "      <td>11.0</td>\n",
              "      <td>10.0</td>\n",
              "      <td>22.0</td>\n",
              "      <td>55.0</td>\n",
              "    </tr>\n",
              "    <tr>\n",
              "      <th>2</th>\n",
              "      <td>1.0</td>\n",
              "      <td>0.0</td>\n",
              "      <td>1.0</td>\n",
              "      <td>1.0</td>\n",
              "      <td>1.0</td>\n",
              "      <td>1.0</td>\n",
              "      <td>2.6</td>\n",
              "      <td>11.0</td>\n",
              "      <td>0.0</td>\n",
              "      <td>0.0</td>\n",
              "      <td>0.0</td>\n",
              "      <td>0.0</td>\n",
              "      <td>0.0</td>\n",
              "      <td>0.0</td>\n",
              "      <td>1.0</td>\n",
              "      <td>1.0</td>\n",
              "      <td>1.0</td>\n",
              "      <td>2.6</td>\n",
              "      <td>11.0</td>\n",
              "      <td>1.0</td>\n",
              "      <td>1.0</td>\n",
              "      <td>2.6</td>\n",
              "      <td>11.0</td>\n",
              "      <td>1.0</td>\n",
              "      <td>2.6</td>\n",
              "      <td>11.0</td>\n",
              "      <td>2.6</td>\n",
              "      <td>11.0</td>\n",
              "      <td>28.6</td>\n",
              "    </tr>\n",
              "    <tr>\n",
              "      <th>3</th>\n",
              "      <td>1.0</td>\n",
              "      <td>1.0</td>\n",
              "      <td>1.0</td>\n",
              "      <td>0.0</td>\n",
              "      <td>3.0</td>\n",
              "      <td>7.0</td>\n",
              "      <td>6.9</td>\n",
              "      <td>7.0</td>\n",
              "      <td>1.0</td>\n",
              "      <td>0.0</td>\n",
              "      <td>3.0</td>\n",
              "      <td>7.0</td>\n",
              "      <td>6.9</td>\n",
              "      <td>7.0</td>\n",
              "      <td>0.0</td>\n",
              "      <td>3.0</td>\n",
              "      <td>7.0</td>\n",
              "      <td>6.9</td>\n",
              "      <td>7.0</td>\n",
              "      <td>0.0</td>\n",
              "      <td>0.0</td>\n",
              "      <td>0.0</td>\n",
              "      <td>0.0</td>\n",
              "      <td>21.0</td>\n",
              "      <td>20.7</td>\n",
              "      <td>21.0</td>\n",
              "      <td>48.3</td>\n",
              "      <td>49.0</td>\n",
              "      <td>48.3</td>\n",
              "    </tr>\n",
              "    <tr>\n",
              "      <th>4</th>\n",
              "      <td>1.0</td>\n",
              "      <td>0.0</td>\n",
              "      <td>0.0</td>\n",
              "      <td>1.0</td>\n",
              "      <td>2.0</td>\n",
              "      <td>4.0</td>\n",
              "      <td>3.6</td>\n",
              "      <td>11.0</td>\n",
              "      <td>0.0</td>\n",
              "      <td>0.0</td>\n",
              "      <td>0.0</td>\n",
              "      <td>0.0</td>\n",
              "      <td>0.0</td>\n",
              "      <td>0.0</td>\n",
              "      <td>0.0</td>\n",
              "      <td>0.0</td>\n",
              "      <td>0.0</td>\n",
              "      <td>0.0</td>\n",
              "      <td>0.0</td>\n",
              "      <td>2.0</td>\n",
              "      <td>4.0</td>\n",
              "      <td>3.6</td>\n",
              "      <td>11.0</td>\n",
              "      <td>8.0</td>\n",
              "      <td>7.2</td>\n",
              "      <td>22.0</td>\n",
              "      <td>14.4</td>\n",
              "      <td>44.0</td>\n",
              "      <td>39.6</td>\n",
              "    </tr>\n",
              "  </tbody>\n",
              "</table>\n",
              "</div>"
            ],
            "text/plain": [
              "     1  ...  Mental Fatigue Score Month of Joining\n",
              "0  1.0  ...                                   34.2\n",
              "1  1.0  ...                                   55.0\n",
              "2  1.0  ...                                   28.6\n",
              "3  1.0  ...                                   48.3\n",
              "4  1.0  ...                                   39.6\n",
              "\n",
              "[5 rows x 29 columns]"
            ]
          },
          "metadata": {
            "tags": []
          },
          "execution_count": 42
        }
      ]
    },
    {
      "cell_type": "code",
      "metadata": {
        "execution": {
          "iopub.execute_input": "2020-12-18T14:45:11.919217Z",
          "iopub.status.busy": "2020-12-18T14:45:11.918572Z",
          "iopub.status.idle": "2020-12-18T14:45:12.209258Z",
          "shell.execute_reply": "2020-12-18T14:45:12.209801Z"
        },
        "papermill": {
          "duration": 0.356009,
          "end_time": "2020-12-18T14:45:12.209976",
          "exception": false,
          "start_time": "2020-12-18T14:45:11.853967",
          "status": "completed"
        },
        "tags": [],
        "colab": {
          "base_uri": "https://localhost:8080/"
        },
        "id": "b8OUMY259s05",
        "outputId": "8f194af1-4932-44b9-803b-b965cc640924"
      },
      "source": [
        "X_train, X_test, y_train, y_test = train_test_split(X_t, y, test_size=0.25, random_state=42)\n",
        "\n",
        "features = ['1',\n",
        " 'Company Type',\n",
        " 'Resource Allocation',\n",
        " 'Mental Fatigue Score',\n",
        " 'Gender Company Type',\n",
        " 'WFH Setup Available Mental Fatigue Score',\n",
        " 'Designation Mental Fatigue Score',\n",
        " 'Resource Allocation Mental Fatigue Score'\n",
        "               ]\n",
        "\n",
        "X_train_lrm = X_train[features]\n",
        "X_test_lrm = X_test[features]\n",
        "\n",
        "lrm = linear_model.LinearRegression()\n",
        "lrm.fit(X_train_lrm, y_train)\n",
        "\n",
        "y_predict_lrm = lrm.predict(X_test_lrm)\n",
        "print(y_predict_lrm)\n",
        "print(y_predict_lrm.shape)\n",
        "\n",
        "print('Coefficients:')\n",
        "for item in zip(list(X_train_lrm.columns), lrm.coef_):\n",
        "    print(item)\n",
        "\n",
        "print('\\nTrain R-squared: ', lrm.score(X_train_lrm, y_train))\n",
        "print('Test R-squared: ', lrm.score(X_test_lrm, y_test))"
      ],
      "execution_count": null,
      "outputs": [
        {
          "output_type": "stream",
          "text": [
            "[0.25507313 0.39052756 0.35031123 ... 0.50561215 0.40675933 0.54537366]\n",
            "(4648,)\n",
            "Coefficients:\n",
            "('1', 0.0)\n",
            "('Company Type', 0.0035436550633633525)\n",
            "('Resource Allocation', 0.008384272303283835)\n",
            "('Mental Fatigue Score', 0.0661290287494567)\n",
            "('Gender Company Type', -0.00531140272796386)\n",
            "('WFH Setup Available Mental Fatigue Score', -0.0015810880376155613)\n",
            "('Designation Mental Fatigue Score', -0.0005088776257576164)\n",
            "('Resource Allocation Mental Fatigue Score', 0.0029293281554450693)\n",
            "\n",
            "Train R-squared:  0.9242642849762224\n",
            "Test R-squared:  0.9245093953450513\n"
          ],
          "name": "stdout"
        }
      ]
    }
  ]
}